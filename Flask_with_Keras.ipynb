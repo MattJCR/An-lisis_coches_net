{
 "cells": [
  {
   "attachments": {},
   "cell_type": "markdown",
   "metadata": {},
   "source": [
    "# Instalación de librerias"
   ]
  },
  {
   "cell_type": "code",
   "execution_count": 1,
   "metadata": {},
   "outputs": [
    {
     "name": "stdout",
     "output_type": "stream",
     "text": [
      "Requirement already satisfied: tensorflow in c:\\users\\mateo\\appdata\\local\\programs\\python\\python310\\lib\\site-packages (2.12.0)\n",
      "Requirement already satisfied: numpy in c:\\users\\mateo\\appdata\\local\\programs\\python\\python310\\lib\\site-packages (1.23.5)\n",
      "Requirement already satisfied: keras in c:\\users\\mateo\\appdata\\local\\programs\\python\\python310\\lib\\site-packages (2.12.0)\n",
      "Requirement already satisfied: matplotlib in c:\\users\\mateo\\appdata\\local\\programs\\python\\python310\\lib\\site-packages (3.6.2)\n",
      "Requirement already satisfied: scikit-learn in c:\\users\\mateo\\appdata\\local\\programs\\python\\python310\\lib\\site-packages (1.1.3)\n",
      "Requirement already satisfied: seaborn in c:\\users\\mateo\\appdata\\local\\programs\\python\\python310\\lib\\site-packages (0.12.1)\n",
      "Requirement already satisfied: pandas in c:\\users\\mateo\\appdata\\local\\programs\\python\\python310\\lib\\site-packages (1.5.2)\n",
      "Requirement already satisfied: flask in c:\\users\\mateo\\appdata\\local\\programs\\python\\python310\\lib\\site-packages (2.2.3)\n",
      "Collecting flask-cors\n",
      "  Downloading Flask_Cors-3.0.10-py2.py3-none-any.whl (14 kB)\n",
      "Requirement already satisfied: tensorflow-intel==2.12.0 in c:\\users\\mateo\\appdata\\local\\programs\\python\\python310\\lib\\site-packages (from tensorflow) (2.12.0)\n",
      "Requirement already satisfied: six>=1.12.0 in c:\\users\\mateo\\appdata\\local\\programs\\python\\python310\\lib\\site-packages (from tensorflow-intel==2.12.0->tensorflow) (1.16.0)\n",
      "Requirement already satisfied: absl-py>=1.0.0 in c:\\users\\mateo\\appdata\\local\\programs\\python\\python310\\lib\\site-packages (from tensorflow-intel==2.12.0->tensorflow) (1.4.0)\n",
      "Requirement already satisfied: opt-einsum>=2.3.2 in c:\\users\\mateo\\appdata\\local\\programs\\python\\python310\\lib\\site-packages (from tensorflow-intel==2.12.0->tensorflow) (3.3.0)\n",
      "Requirement already satisfied: setuptools in c:\\users\\mateo\\appdata\\local\\programs\\python\\python310\\lib\\site-packages (from tensorflow-intel==2.12.0->tensorflow) (63.2.0)\n",
      "Requirement already satisfied: wrapt<1.15,>=1.11.0 in c:\\users\\mateo\\appdata\\local\\programs\\python\\python310\\lib\\site-packages (from tensorflow-intel==2.12.0->tensorflow) (1.14.1)\n",
      "Requirement already satisfied: packaging in c:\\users\\mateo\\appdata\\local\\programs\\python\\python310\\lib\\site-packages (from tensorflow-intel==2.12.0->tensorflow) (21.3)\n",
      "Requirement already satisfied: tensorflow-io-gcs-filesystem>=0.23.1 in c:\\users\\mateo\\appdata\\local\\programs\\python\\python310\\lib\\site-packages (from tensorflow-intel==2.12.0->tensorflow) (0.31.0)\n",
      "Requirement already satisfied: termcolor>=1.1.0 in c:\\users\\mateo\\appdata\\local\\programs\\python\\python310\\lib\\site-packages (from tensorflow-intel==2.12.0->tensorflow) (2.2.0)\n",
      "Requirement already satisfied: google-pasta>=0.1.1 in c:\\users\\mateo\\appdata\\local\\programs\\python\\python310\\lib\\site-packages (from tensorflow-intel==2.12.0->tensorflow) (0.2.0)\n",
      "Requirement already satisfied: protobuf!=4.21.0,!=4.21.1,!=4.21.2,!=4.21.3,!=4.21.4,!=4.21.5,<5.0.0dev,>=3.20.3 in c:\\users\\mateo\\appdata\\local\\programs\\python\\python310\\lib\\site-packages (from tensorflow-intel==2.12.0->tensorflow) (4.22.3)\n",
      "Requirement already satisfied: tensorflow-estimator<2.13,>=2.12.0 in c:\\users\\mateo\\appdata\\local\\programs\\python\\python310\\lib\\site-packages (from tensorflow-intel==2.12.0->tensorflow) (2.12.0)\n",
      "Requirement already satisfied: h5py>=2.9.0 in c:\\users\\mateo\\appdata\\local\\programs\\python\\python310\\lib\\site-packages (from tensorflow-intel==2.12.0->tensorflow) (3.8.0)\n",
      "Requirement already satisfied: libclang>=13.0.0 in c:\\users\\mateo\\appdata\\local\\programs\\python\\python310\\lib\\site-packages (from tensorflow-intel==2.12.0->tensorflow) (16.0.0)\n",
      "Requirement already satisfied: flatbuffers>=2.0 in c:\\users\\mateo\\appdata\\local\\programs\\python\\python310\\lib\\site-packages (from tensorflow-intel==2.12.0->tensorflow) (23.3.3)\n",
      "Requirement already satisfied: jax>=0.3.15 in c:\\users\\mateo\\appdata\\local\\programs\\python\\python310\\lib\\site-packages (from tensorflow-intel==2.12.0->tensorflow) (0.4.8)\n",
      "Requirement already satisfied: gast<=0.4.0,>=0.2.1 in c:\\users\\mateo\\appdata\\local\\programs\\python\\python310\\lib\\site-packages (from tensorflow-intel==2.12.0->tensorflow) (0.4.0)\n",
      "Requirement already satisfied: typing-extensions>=3.6.6 in c:\\users\\mateo\\appdata\\local\\programs\\python\\python310\\lib\\site-packages (from tensorflow-intel==2.12.0->tensorflow) (4.4.0)\n",
      "Requirement already satisfied: astunparse>=1.6.0 in c:\\users\\mateo\\appdata\\local\\programs\\python\\python310\\lib\\site-packages (from tensorflow-intel==2.12.0->tensorflow) (1.6.3)\n",
      "Requirement already satisfied: tensorboard<2.13,>=2.12 in c:\\users\\mateo\\appdata\\local\\programs\\python\\python310\\lib\\site-packages (from tensorflow-intel==2.12.0->tensorflow) (2.12.2)\n",
      "Requirement already satisfied: grpcio<2.0,>=1.24.3 in c:\\users\\mateo\\appdata\\local\\programs\\python\\python310\\lib\\site-packages (from tensorflow-intel==2.12.0->tensorflow) (1.54.0)\n",
      "Requirement already satisfied: kiwisolver>=1.0.1 in c:\\users\\mateo\\appdata\\local\\programs\\python\\python310\\lib\\site-packages (from matplotlib) (1.4.4)\n",
      "Requirement already satisfied: cycler>=0.10 in c:\\users\\mateo\\appdata\\local\\programs\\python\\python310\\lib\\site-packages (from matplotlib) (0.11.0)\n",
      "Requirement already satisfied: contourpy>=1.0.1 in c:\\users\\mateo\\appdata\\local\\programs\\python\\python310\\lib\\site-packages (from matplotlib) (1.0.6)\n",
      "Requirement already satisfied: fonttools>=4.22.0 in c:\\users\\mateo\\appdata\\local\\programs\\python\\python310\\lib\\site-packages (from matplotlib) (4.38.0)\n",
      "Requirement already satisfied: python-dateutil>=2.7 in c:\\users\\mateo\\appdata\\local\\programs\\python\\python310\\lib\\site-packages (from matplotlib) (2.8.2)\n",
      "Requirement already satisfied: pyparsing>=2.2.1 in c:\\users\\mateo\\appdata\\local\\programs\\python\\python310\\lib\\site-packages (from matplotlib) (3.0.9)\n",
      "Requirement already satisfied: pillow>=6.2.0 in c:\\users\\mateo\\appdata\\local\\programs\\python\\python310\\lib\\site-packages (from matplotlib) (9.3.0)\n",
      "Requirement already satisfied: threadpoolctl>=2.0.0 in c:\\users\\mateo\\appdata\\local\\programs\\python\\python310\\lib\\site-packages (from scikit-learn) (3.1.0)\n",
      "Requirement already satisfied: joblib>=1.0.0 in c:\\users\\mateo\\appdata\\local\\programs\\python\\python310\\lib\\site-packages (from scikit-learn) (1.2.0)\n",
      "Requirement already satisfied: scipy>=1.3.2 in c:\\users\\mateo\\appdata\\local\\programs\\python\\python310\\lib\\site-packages (from scikit-learn) (1.9.3)\n",
      "Requirement already satisfied: pytz>=2020.1 in c:\\users\\mateo\\appdata\\local\\programs\\python\\python310\\lib\\site-packages (from pandas) (2022.6)\n",
      "Requirement already satisfied: itsdangerous>=2.0 in c:\\users\\mateo\\appdata\\local\\programs\\python\\python310\\lib\\site-packages (from flask) (2.1.2)\n",
      "Requirement already satisfied: click>=8.0 in c:\\users\\mateo\\appdata\\local\\programs\\python\\python310\\lib\\site-packages (from flask) (8.1.3)\n",
      "Requirement already satisfied: Werkzeug>=2.2.2 in c:\\users\\mateo\\appdata\\local\\programs\\python\\python310\\lib\\site-packages (from flask) (2.2.3)\n",
      "Requirement already satisfied: Jinja2>=3.0 in c:\\users\\mateo\\appdata\\local\\programs\\python\\python310\\lib\\site-packages (from flask) (3.1.2)\n",
      "Requirement already satisfied: colorama in c:\\users\\mateo\\appdata\\local\\programs\\python\\python310\\lib\\site-packages (from click>=8.0->flask) (0.4.6)\n",
      "Requirement already satisfied: MarkupSafe>=2.0 in c:\\users\\mateo\\appdata\\local\\programs\\python\\python310\\lib\\site-packages (from Jinja2>=3.0->flask) (2.1.2)\n",
      "Requirement already satisfied: wheel<1.0,>=0.23.0 in c:\\users\\mateo\\appdata\\local\\programs\\python\\python310\\lib\\site-packages (from astunparse>=1.6.0->tensorflow-intel==2.12.0->tensorflow) (0.40.0)\n",
      "Requirement already satisfied: ml-dtypes>=0.0.3 in c:\\users\\mateo\\appdata\\local\\programs\\python\\python310\\lib\\site-packages (from jax>=0.3.15->tensorflow-intel==2.12.0->tensorflow) (0.1.0)\n",
      "Requirement already satisfied: requests<3,>=2.21.0 in c:\\users\\mateo\\appdata\\local\\programs\\python\\python310\\lib\\site-packages (from tensorboard<2.13,>=2.12->tensorflow-intel==2.12.0->tensorflow) (2.28.1)\n",
      "Requirement already satisfied: google-auth-oauthlib<1.1,>=0.5 in c:\\users\\mateo\\appdata\\local\\programs\\python\\python310\\lib\\site-packages (from tensorboard<2.13,>=2.12->tensorflow-intel==2.12.0->tensorflow) (1.0.0)\n",
      "Requirement already satisfied: google-auth<3,>=1.6.3 in c:\\users\\mateo\\appdata\\local\\programs\\python\\python310\\lib\\site-packages (from tensorboard<2.13,>=2.12->tensorflow-intel==2.12.0->tensorflow) (2.17.3)\n",
      "Requirement already satisfied: markdown>=2.6.8 in c:\\users\\mateo\\appdata\\local\\programs\\python\\python310\\lib\\site-packages (from tensorboard<2.13,>=2.12->tensorflow-intel==2.12.0->tensorflow) (3.4.3)\n",
      "Requirement already satisfied: tensorboard-data-server<0.8.0,>=0.7.0 in c:\\users\\mateo\\appdata\\local\\programs\\python\\python310\\lib\\site-packages (from tensorboard<2.13,>=2.12->tensorflow-intel==2.12.0->tensorflow) (0.7.0)\n",
      "Requirement already satisfied: tensorboard-plugin-wit>=1.6.0 in c:\\users\\mateo\\appdata\\local\\programs\\python\\python310\\lib\\site-packages (from tensorboard<2.13,>=2.12->tensorflow-intel==2.12.0->tensorflow) (1.8.1)\n",
      "Requirement already satisfied: cachetools<6.0,>=2.0.0 in c:\\users\\mateo\\appdata\\local\\programs\\python\\python310\\lib\\site-packages (from google-auth<3,>=1.6.3->tensorboard<2.13,>=2.12->tensorflow-intel==2.12.0->tensorflow) (5.3.0)\n",
      "Requirement already satisfied: rsa<5,>=3.1.4 in c:\\users\\mateo\\appdata\\local\\programs\\python\\python310\\lib\\site-packages (from google-auth<3,>=1.6.3->tensorboard<2.13,>=2.12->tensorflow-intel==2.12.0->tensorflow) (4.9)\n",
      "Requirement already satisfied: pyasn1-modules>=0.2.1 in c:\\users\\mateo\\appdata\\local\\programs\\python\\python310\\lib\\site-packages (from google-auth<3,>=1.6.3->tensorboard<2.13,>=2.12->tensorflow-intel==2.12.0->tensorflow) (0.2.8)\n",
      "Requirement already satisfied: requests-oauthlib>=0.7.0 in c:\\users\\mateo\\appdata\\local\\programs\\python\\python310\\lib\\site-packages (from google-auth-oauthlib<1.1,>=0.5->tensorboard<2.13,>=2.12->tensorflow-intel==2.12.0->tensorflow) (1.3.1)\n",
      "Requirement already satisfied: urllib3<1.27,>=1.21.1 in c:\\users\\mateo\\appdata\\local\\programs\\python\\python310\\lib\\site-packages (from requests<3,>=2.21.0->tensorboard<2.13,>=2.12->tensorflow-intel==2.12.0->tensorflow) (1.26.12)\n",
      "Requirement already satisfied: idna<4,>=2.5 in c:\\users\\mateo\\appdata\\local\\programs\\python\\python310\\lib\\site-packages (from requests<3,>=2.21.0->tensorboard<2.13,>=2.12->tensorflow-intel==2.12.0->tensorflow) (3.4)\n",
      "Requirement already satisfied: certifi>=2017.4.17 in c:\\users\\mateo\\appdata\\local\\programs\\python\\python310\\lib\\site-packages (from requests<3,>=2.21.0->tensorboard<2.13,>=2.12->tensorflow-intel==2.12.0->tensorflow) (2022.9.24)\n",
      "Requirement already satisfied: charset-normalizer<3,>=2 in c:\\users\\mateo\\appdata\\local\\programs\\python\\python310\\lib\\site-packages (from requests<3,>=2.21.0->tensorboard<2.13,>=2.12->tensorflow-intel==2.12.0->tensorflow) (2.1.1)\n",
      "Requirement already satisfied: pyasn1<0.5.0,>=0.4.6 in c:\\users\\mateo\\appdata\\local\\programs\\python\\python310\\lib\\site-packages (from pyasn1-modules>=0.2.1->google-auth<3,>=1.6.3->tensorboard<2.13,>=2.12->tensorflow-intel==2.12.0->tensorflow) (0.4.8)\n",
      "Requirement already satisfied: oauthlib>=3.0.0 in c:\\users\\mateo\\appdata\\local\\programs\\python\\python310\\lib\\site-packages (from requests-oauthlib>=0.7.0->google-auth-oauthlib<1.1,>=0.5->tensorboard<2.13,>=2.12->tensorflow-intel==2.12.0->tensorflow) (3.2.2)\n",
      "Installing collected packages: flask-cors\n",
      "Successfully installed flask-cors-3.0.10\n"
     ]
    },
    {
     "name": "stderr",
     "output_type": "stream",
     "text": [
      "\n",
      "[notice] A new release of pip available: 22.3.1 -> 23.1\n",
      "[notice] To update, run: python.exe -m pip install --upgrade pip\n"
     ]
    }
   ],
   "source": [
    "!pip install tensorflow numpy keras matplotlib scikit-learn seaborn pandas flask flask-cors"
   ]
  },
  {
   "cell_type": "code",
   "execution_count": 3,
   "metadata": {},
   "outputs": [],
   "source": [
    "import pickle\n",
    "import tensorflow as tf\n",
    "import numpy as np\n",
    "from keras.callbacks import EarlyStopping\n",
    "from keras.callbacks import ReduceLROnPlateau\n",
    "from keras.optimizers import Adam\n",
    "import math\n",
    "from tensorflow.keras.models import Sequential\n",
    "from tensorflow.keras.layers import Dense\n",
    "from keras.optimizers import Adam\n",
    "import matplotlib.pyplot as plt\n",
    "from sklearn.model_selection import train_test_split\n",
    "from sklearn.preprocessing import StandardScaler\n",
    "import seaborn as sns\n",
    "import matplotlib.pyplot as plt\n",
    "import os\n",
    "import pandas as pd\n",
    "import json"
   ]
  },
  {
   "attachments": {},
   "cell_type": "markdown",
   "metadata": {},
   "source": [
    "# Carga del modelo"
   ]
  },
  {
   "cell_type": "code",
   "execution_count": 3,
   "metadata": {},
   "outputs": [
    {
     "name": "stdout",
     "output_type": "stream",
     "text": [
      " El volumen de la unidad C no tiene etiqueta.\n",
      " El n�mero de serie del volumen es: B25A-9483\n",
      "\n",
      " Directorio de c:\\dev\n",
      "\n",
      "19/04/2023  20:04    <DIR>          .\n",
      "12/04/2023  19:21           970.106 bmw.xml\n",
      "12/04/2023  20:46           674.977 bmw_mazda.csv\n",
      "08/02/2023  20:32    <DIR>          Bot-dino-chrome-master\n",
      "08/02/2023  20:32             3.520 Bot-dino-chrome-master.zip\n",
      "24/03/2022  18:42    <DIR>          clonenetflix-main\n",
      "12/04/2023  20:44           678.108 coches_data.csv\n",
      "08/04/2023  19:51               742 coches_data.json\n",
      "12/04/2023  19:44           114.277 coches_link.csv\n",
      "08/04/2023  19:54            95.799 coches_link2.csv\n",
      "28/06/2022  21:34    <DIR>          demo\n",
      "19/04/2023  18:03           319.956 dict_vectorizer_coches_net.pck\n",
      "19/04/2023  20:08            24.817 Flask_with_Keras.ipynb\n",
      "24/10/2022  16:30    <DIR>          grumpis\n",
      "14/02/2023  19:37        15.011.296 Gyazo-4.6.exe\n",
      "19/04/2023  18:03           986.088 modelo_keras_coches_net.hdf5\n",
      "19/04/2023  20:04         1.306.334 model_with_dict_vectorizer_coches_net.zip\n",
      "13/02/2023  18:01        31.330.304 node-v18.14.0-x64.msi\n",
      "30/10/2021  16:11    <DIR>          plan-manager\n",
      "24/10/2022  16:31    <DIR>          Proyect-Cheesecake\n",
      "09/02/2023  22:02           453.226 Pr�ctica Graphs Data Science Neo4j - gameofthrones.pdf\n",
      "13/02/2023  18:06    <DIR>          react\n",
      "18/04/2023  18:00            11.843 selenium.ipynb\n",
      "29/06/2022  17:00    <DIR>          Spring-Boot-Netfix-Clone\n",
      "07/05/2022  16:01    <DIR>          SpringAngular\n",
      "20/11/2021  23:49    <DIR>          SpringWebFlux\n",
      "              15 archivos     51.981.393 bytes\n",
      "              11 dirs  348.745.121.792 bytes libres\n"
     ]
    }
   ],
   "source": [
    "!dir"
   ]
  },
  {
   "cell_type": "code",
   "execution_count": 4,
   "metadata": {},
   "outputs": [
    {
     "name": "stderr",
     "output_type": "stream",
     "text": [
      "c:\\Users\\mateo\\AppData\\Local\\Programs\\Python\\Python310\\lib\\site-packages\\sklearn\\base.py:329: UserWarning: Trying to unpickle estimator DictVectorizer from version 1.2.2 when using version 1.1.3. This might lead to breaking code or invalid results. Use at your own risk. For more info please refer to:\n",
      "https://scikit-learn.org/stable/model_persistence.html#security-maintainability-limitations\n",
      "  warnings.warn(\n"
     ]
    }
   ],
   "source": [
    "\n",
    "with open('dict_vectorizer_coches_net.pck', 'rb') as f:\n",
    "  dv = pickle.load(f)\n",
    "model = tf.keras.models.load_model('modelo_keras_coches_net.hdf5')\n",
    "# Crear un nuevo optimizador\n",
    "optimizer = Adam(learning_rate=0.01)\n",
    "\n",
    "# Compilar el modelo con el nuevo optimizador\n",
    "model.compile(loss='mean_squared_error', optimizer=optimizer)"
   ]
  },
  {
   "cell_type": "code",
   "execution_count": 5,
   "metadata": {},
   "outputs": [
    {
     "data": {
      "text/plain": [
       "<keras.engine.sequential.Sequential at 0x23a03ba0940>"
      ]
     },
     "execution_count": 5,
     "metadata": {},
     "output_type": "execute_result"
    }
   ],
   "source": [
    "model"
   ]
  },
  {
   "cell_type": "code",
   "execution_count": 6,
   "metadata": {},
   "outputs": [
    {
     "data": {
      "text/html": [
       "<style>#sk-container-id-1 {color: black;background-color: white;}#sk-container-id-1 pre{padding: 0;}#sk-container-id-1 div.sk-toggleable {background-color: white;}#sk-container-id-1 label.sk-toggleable__label {cursor: pointer;display: block;width: 100%;margin-bottom: 0;padding: 0.3em;box-sizing: border-box;text-align: center;}#sk-container-id-1 label.sk-toggleable__label-arrow:before {content: \"▸\";float: left;margin-right: 0.25em;color: #696969;}#sk-container-id-1 label.sk-toggleable__label-arrow:hover:before {color: black;}#sk-container-id-1 div.sk-estimator:hover label.sk-toggleable__label-arrow:before {color: black;}#sk-container-id-1 div.sk-toggleable__content {max-height: 0;max-width: 0;overflow: hidden;text-align: left;background-color: #f0f8ff;}#sk-container-id-1 div.sk-toggleable__content pre {margin: 0.2em;color: black;border-radius: 0.25em;background-color: #f0f8ff;}#sk-container-id-1 input.sk-toggleable__control:checked~div.sk-toggleable__content {max-height: 200px;max-width: 100%;overflow: auto;}#sk-container-id-1 input.sk-toggleable__control:checked~label.sk-toggleable__label-arrow:before {content: \"▾\";}#sk-container-id-1 div.sk-estimator input.sk-toggleable__control:checked~label.sk-toggleable__label {background-color: #d4ebff;}#sk-container-id-1 div.sk-label input.sk-toggleable__control:checked~label.sk-toggleable__label {background-color: #d4ebff;}#sk-container-id-1 input.sk-hidden--visually {border: 0;clip: rect(1px 1px 1px 1px);clip: rect(1px, 1px, 1px, 1px);height: 1px;margin: -1px;overflow: hidden;padding: 0;position: absolute;width: 1px;}#sk-container-id-1 div.sk-estimator {font-family: monospace;background-color: #f0f8ff;border: 1px dotted black;border-radius: 0.25em;box-sizing: border-box;margin-bottom: 0.5em;}#sk-container-id-1 div.sk-estimator:hover {background-color: #d4ebff;}#sk-container-id-1 div.sk-parallel-item::after {content: \"\";width: 100%;border-bottom: 1px solid gray;flex-grow: 1;}#sk-container-id-1 div.sk-label:hover label.sk-toggleable__label {background-color: #d4ebff;}#sk-container-id-1 div.sk-serial::before {content: \"\";position: absolute;border-left: 1px solid gray;box-sizing: border-box;top: 0;bottom: 0;left: 50%;z-index: 0;}#sk-container-id-1 div.sk-serial {display: flex;flex-direction: column;align-items: center;background-color: white;padding-right: 0.2em;padding-left: 0.2em;position: relative;}#sk-container-id-1 div.sk-item {position: relative;z-index: 1;}#sk-container-id-1 div.sk-parallel {display: flex;align-items: stretch;justify-content: center;background-color: white;position: relative;}#sk-container-id-1 div.sk-item::before, #sk-container-id-1 div.sk-parallel-item::before {content: \"\";position: absolute;border-left: 1px solid gray;box-sizing: border-box;top: 0;bottom: 0;left: 50%;z-index: -1;}#sk-container-id-1 div.sk-parallel-item {display: flex;flex-direction: column;z-index: 1;position: relative;background-color: white;}#sk-container-id-1 div.sk-parallel-item:first-child::after {align-self: flex-end;width: 50%;}#sk-container-id-1 div.sk-parallel-item:last-child::after {align-self: flex-start;width: 50%;}#sk-container-id-1 div.sk-parallel-item:only-child::after {width: 0;}#sk-container-id-1 div.sk-dashed-wrapped {border: 1px dashed gray;margin: 0 0.4em 0.5em 0.4em;box-sizing: border-box;padding-bottom: 0.4em;background-color: white;}#sk-container-id-1 div.sk-label label {font-family: monospace;font-weight: bold;display: inline-block;line-height: 1.2em;}#sk-container-id-1 div.sk-label-container {text-align: center;}#sk-container-id-1 div.sk-container {/* jupyter's `normalize.less` sets `[hidden] { display: none; }` but bootstrap.min.css set `[hidden] { display: none !important; }` so we also need the `!important` here to be able to override the default hidden behavior on the sphinx rendered scikit-learn.org. See: https://github.com/scikit-learn/scikit-learn/issues/21755 */display: inline-block !important;position: relative;}#sk-container-id-1 div.sk-text-repr-fallback {display: none;}</style><div id=\"sk-container-id-1\" class=\"sk-top-container\"><div class=\"sk-text-repr-fallback\"><pre>DictVectorizer(sparse=False)</pre><b>In a Jupyter environment, please rerun this cell to show the HTML representation or trust the notebook. <br />On GitHub, the HTML representation is unable to render, please try loading this page with nbviewer.org.</b></div><div class=\"sk-container\" hidden><div class=\"sk-item\"><div class=\"sk-estimator sk-toggleable\"><input class=\"sk-toggleable__control sk-hidden--visually\" id=\"sk-estimator-id-1\" type=\"checkbox\" checked><label for=\"sk-estimator-id-1\" class=\"sk-toggleable__label sk-toggleable__label-arrow\">DictVectorizer</label><div class=\"sk-toggleable__content\"><pre>DictVectorizer(sparse=False)</pre></div></div></div></div></div>"
      ],
      "text/plain": [
       "DictVectorizer(sparse=False)"
      ]
     },
     "execution_count": 6,
     "metadata": {},
     "output_type": "execute_result"
    }
   ],
   "source": [
    "dv"
   ]
  },
  {
   "attachments": {},
   "cell_type": "markdown",
   "metadata": {},
   "source": [
    "# Uso del modelo"
   ]
  },
  {
   "cell_type": "code",
   "execution_count": 7,
   "metadata": {},
   "outputs": [
    {
     "data": {
      "text/plain": [
       "array([[1.000e+00, 0.000e+00, 0.000e+00, ..., 0.000e+00, 1.000e+00,\n",
       "        2.019e+03]])"
      ]
     },
     "execution_count": 7,
     "metadata": {},
     "output_type": "execute_result"
    }
   ],
   "source": [
    "coche = {\n",
    "        \"color\": \"GRAY\",\n",
    "        \"fueltype\": \"Gasolina\",\n",
    "        \"km\": 93000.0,\n",
    "        \"make\": \"AUDI\",\n",
    "        \"model\": \"Q2\",\n",
    "        \"province\": \"Alicante\",\n",
    "        \"title\": \"AUDI Q2 Design 30 TFSI 85kW 116CV 5p\",\n",
    "        \"transmissiontype\": \"MANUAL\",\n",
    "        \"year\": 2019.0,\n",
    "        \"seller_type\": \"profesional\",\n",
    "        \"bodytype\": \"4x4 SUV\",\n",
    "        \"cubiccapacity\": 999.0,\n",
    "        \"doors\": 5.0,\n",
    "        \"hp\": 116.0\n",
    "    }\n",
    "X_train = dv.transform(coche)\n",
    "X_train"
   ]
  },
  {
   "cell_type": "code",
   "execution_count": 8,
   "metadata": {},
   "outputs": [
    {
     "name": "stdout",
     "output_type": "stream",
     "text": [
      "1/1 [==============================] - 0s 81ms/step\n"
     ]
    },
    {
     "data": {
      "text/plain": [
       "array([[18484.176]], dtype=float32)"
      ]
     },
     "execution_count": 8,
     "metadata": {},
     "output_type": "execute_result"
    }
   ],
   "source": [
    "precio = model.predict(X_train)\n",
    "precio"
   ]
  },
  {
   "cell_type": "code",
   "execution_count": 12,
   "metadata": {},
   "outputs": [
    {
     "name": "stdout",
     "output_type": "stream",
     "text": [
      " * Serving Flask app '__main__'\n",
      " * Debug mode: off\n"
     ]
    },
    {
     "name": "stderr",
     "output_type": "stream",
     "text": [
      "WARNING: This is a development server. Do not use it in a production deployment. Use a production WSGI server instead.\n",
      " * Running on http://127.0.0.1:5000\n",
      "Press CTRL+C to quit\n",
      "127.0.0.1 - - [20/Apr/2023 19:23:00] \"OPTIONS /api/predict/coche HTTP/1.1\" 200 -\n"
     ]
    },
    {
     "name": "stdout",
     "output_type": "stream",
     "text": [
      "{'color': 'BLUE', 'fueltype': 'Diésel', 'km': '36900', 'make': 'AUDI', 'model': 'A3', 'province': 'Almería', 'transmissiontype': 'AUTOMATIC', 'year': '2017', 'seller_type': 'profesional', 'bodytype': 'Berlina', 'cubiccapacity': '1598.0', 'doors': '5', 'hp': '119'}\n",
      "data: [{'color': 'BLUE', 'fueltype': 'Diésel', 'km': '36900', 'make': 'AUDI', 'model': 'A3', 'province': 'Almería', 'transmissiontype': 'AUTOMATIC', 'year': '2017', 'seller_type': 'profesional', 'bodytype': 'Berlina', 'cubiccapacity': '1598.0', 'doors': '5', 'hp': '119'}]\n",
      "1/1 [==============================] - 0s 48ms/step\n"
     ]
    },
    {
     "name": "stderr",
     "output_type": "stream",
     "text": [
      "127.0.0.1 - - [20/Apr/2023 19:23:00] \"POST /api/predict/coche HTTP/1.1\" 200 -\n"
     ]
    },
    {
     "name": "stdout",
     "output_type": "stream",
     "text": [
      "precio [[19826.854]]\n"
     ]
    },
    {
     "name": "stderr",
     "output_type": "stream",
     "text": [
      "127.0.0.1 - - [20/Apr/2023 19:27:55] \"OPTIONS /api/predict/coche HTTP/1.1\" 200 -\n"
     ]
    },
    {
     "name": "stdout",
     "output_type": "stream",
     "text": [
      "{'color': 'BLUE', 'fueltype': 'Diésel', 'km': '36900', 'make': 'AUDI', 'model': 'A20', 'province': 'Almería', 'transmissiontype': 'AUTOMATIC', 'year': '2017', 'seller_type': 'profesional', 'bodytype': 'Berlina', 'cubiccapacity': '1598.0', 'doors': '5', 'hp': '119'}\n",
      "data: [{'color': 'BLUE', 'fueltype': 'Diésel', 'km': '36900', 'make': 'AUDI', 'model': 'A20', 'province': 'Almería', 'transmissiontype': 'AUTOMATIC', 'year': '2017', 'seller_type': 'profesional', 'bodytype': 'Berlina', 'cubiccapacity': '1598.0', 'doors': '5', 'hp': '119'}]\n",
      "1/1 [==============================] - 0s 16ms/step\n"
     ]
    },
    {
     "name": "stderr",
     "output_type": "stream",
     "text": [
      "127.0.0.1 - - [20/Apr/2023 19:27:56] \"POST /api/predict/coche HTTP/1.1\" 200 -\n"
     ]
    },
    {
     "name": "stdout",
     "output_type": "stream",
     "text": [
      "precio [[19826.854]]\n"
     ]
    },
    {
     "name": "stderr",
     "output_type": "stream",
     "text": [
      "127.0.0.1 - - [20/Apr/2023 19:27:57] \"OPTIONS /api/predict/coche HTTP/1.1\" 200 -\n"
     ]
    },
    {
     "name": "stdout",
     "output_type": "stream",
     "text": [
      "{'color': 'BLUE', 'fueltype': 'Diésel', 'km': '36900', 'make': 'AUDI', 'model': 'A20', 'province': 'Almería', 'transmissiontype': 'AUTOMATIC', 'year': '2017', 'seller_type': 'profesional', 'bodytype': 'Berlina', 'cubiccapacity': '1598.0', 'doors': '5', 'hp': '119'}\n",
      "data: [{'color': 'BLUE', 'fueltype': 'Diésel', 'km': '36900', 'make': 'AUDI', 'model': 'A20', 'province': 'Almería', 'transmissiontype': 'AUTOMATIC', 'year': '2017', 'seller_type': 'profesional', 'bodytype': 'Berlina', 'cubiccapacity': '1598.0', 'doors': '5', 'hp': '119'}]\n",
      "1/1 [==============================] - 0s 20ms/step\n"
     ]
    },
    {
     "name": "stderr",
     "output_type": "stream",
     "text": [
      "127.0.0.1 - - [20/Apr/2023 19:27:57] \"POST /api/predict/coche HTTP/1.1\" 200 -\n"
     ]
    },
    {
     "name": "stdout",
     "output_type": "stream",
     "text": [
      "precio [[19826.854]]\n"
     ]
    },
    {
     "name": "stderr",
     "output_type": "stream",
     "text": [
      "127.0.0.1 - - [20/Apr/2023 19:28:04] \"OPTIONS /api/predict/coche HTTP/1.1\" 200 -\n"
     ]
    },
    {
     "name": "stdout",
     "output_type": "stream",
     "text": [
      "{'color': 'BLUE', 'fueltype': 'Diésel', 'km': '36900', 'make': 'AUDI', 'model': 'Hyundai', 'province': 'Almería', 'transmissiontype': 'AUTOMATIC', 'year': '2017', 'seller_type': 'profesional', 'bodytype': 'Berlina', 'cubiccapacity': '1598.0', 'doors': '5', 'hp': '119'}\n",
      "data: [{'color': 'BLUE', 'fueltype': 'Diésel', 'km': '36900', 'make': 'AUDI', 'model': 'Hyundai', 'province': 'Almería', 'transmissiontype': 'AUTOMATIC', 'year': '2017', 'seller_type': 'profesional', 'bodytype': 'Berlina', 'cubiccapacity': '1598.0', 'doors': '5', 'hp': '119'}]\n",
      "1/1 [==============================] - 0s 22ms/step\n"
     ]
    },
    {
     "name": "stderr",
     "output_type": "stream",
     "text": [
      "127.0.0.1 - - [20/Apr/2023 19:28:04] \"POST /api/predict/coche HTTP/1.1\" 200 -\n"
     ]
    },
    {
     "name": "stdout",
     "output_type": "stream",
     "text": [
      "precio [[19826.854]]\n"
     ]
    },
    {
     "name": "stderr",
     "output_type": "stream",
     "text": [
      "127.0.0.1 - - [20/Apr/2023 19:28:11] \"OPTIONS /api/predict/coche HTTP/1.1\" 200 -\n"
     ]
    },
    {
     "name": "stdout",
     "output_type": "stream",
     "text": [
      "{'color': 'BLUE', 'fueltype': 'Diésel', 'km': '36900', 'make': 'AUDI', 'model': 'Hyundai', 'province': 'Almería', 'transmissiontype': 'AUTOMATIC', 'year': '2017', 'seller_type': 'profesional', 'bodytype': 'Berlina', 'cubiccapacity': '1598.0', 'doors': '5', 'hp': '119'}\n",
      "data: [{'color': 'BLUE', 'fueltype': 'Diésel', 'km': '36900', 'make': 'AUDI', 'model': 'Hyundai', 'province': 'Almería', 'transmissiontype': 'AUTOMATIC', 'year': '2017', 'seller_type': 'profesional', 'bodytype': 'Berlina', 'cubiccapacity': '1598.0', 'doors': '5', 'hp': '119'}]\n",
      "1/1 [==============================] - 0s 22ms/step\n"
     ]
    },
    {
     "name": "stderr",
     "output_type": "stream",
     "text": [
      "127.0.0.1 - - [20/Apr/2023 19:28:11] \"POST /api/predict/coche HTTP/1.1\" 200 -\n"
     ]
    },
    {
     "name": "stdout",
     "output_type": "stream",
     "text": [
      "precio [[19826.854]]\n"
     ]
    },
    {
     "name": "stderr",
     "output_type": "stream",
     "text": [
      "127.0.0.1 - - [20/Apr/2023 19:28:17] \"OPTIONS /api/predict/coche HTTP/1.1\" 200 -\n"
     ]
    },
    {
     "name": "stdout",
     "output_type": "stream",
     "text": [
      "{'color': 'BLUE', 'fueltype': 'Diésel', 'km': '36900', 'make': 'AUDI', 'model': 'Emilio', 'province': 'Almería', 'transmissiontype': 'AUTOMATIC', 'year': '2017', 'seller_type': 'profesional', 'bodytype': 'Berlina', 'cubiccapacity': '1598.0', 'doors': '5', 'hp': '119'}\n",
      "data: [{'color': 'BLUE', 'fueltype': 'Diésel', 'km': '36900', 'make': 'AUDI', 'model': 'Emilio', 'province': 'Almería', 'transmissiontype': 'AUTOMATIC', 'year': '2017', 'seller_type': 'profesional', 'bodytype': 'Berlina', 'cubiccapacity': '1598.0', 'doors': '5', 'hp': '119'}]\n",
      "1/1 [==============================] - 0s 35ms/step\n"
     ]
    },
    {
     "name": "stderr",
     "output_type": "stream",
     "text": [
      "127.0.0.1 - - [20/Apr/2023 19:28:17] \"POST /api/predict/coche HTTP/1.1\" 200 -\n"
     ]
    },
    {
     "name": "stdout",
     "output_type": "stream",
     "text": [
      "precio [[19826.854]]\n"
     ]
    },
    {
     "name": "stderr",
     "output_type": "stream",
     "text": [
      "127.0.0.1 - - [20/Apr/2023 19:29:25] \"OPTIONS /api/predict/coche HTTP/1.1\" 200 -\n"
     ]
    },
    {
     "name": "stdout",
     "output_type": "stream",
     "text": [
      "{'color': 'BLUE', 'fueltype': 'Diésel', 'km': '36900', 'make': 'AUDI', 'model': 'A3', 'province': 'Almería', 'transmissiontype': 'AUTOMATIC', 'year': '2017', 'seller_type': 'profesional', 'bodytype': 'Berlina', 'cubiccapacity': '1598.0', 'doors': '5', 'hp': '119'}\n",
      "data: [{'color': 'BLUE', 'fueltype': 'Diésel', 'km': '36900', 'make': 'AUDI', 'model': 'A3', 'province': 'Almería', 'transmissiontype': 'AUTOMATIC', 'year': '2017', 'seller_type': 'profesional', 'bodytype': 'Berlina', 'cubiccapacity': '1598.0', 'doors': '5', 'hp': '119'}]\n",
      "1/1 [==============================] - 0s 18ms/step\n"
     ]
    },
    {
     "name": "stderr",
     "output_type": "stream",
     "text": [
      "127.0.0.1 - - [20/Apr/2023 19:29:26] \"POST /api/predict/coche HTTP/1.1\" 200 -\n"
     ]
    },
    {
     "name": "stdout",
     "output_type": "stream",
     "text": [
      "precio [[19826.854]]\n"
     ]
    },
    {
     "name": "stderr",
     "output_type": "stream",
     "text": [
      "127.0.0.1 - - [20/Apr/2023 19:29:30] \"OPTIONS /api/predict/coche HTTP/1.1\" 200 -\n"
     ]
    },
    {
     "name": "stdout",
     "output_type": "stream",
     "text": [
      "{'color': 'BLUE', 'fueltype': 'Diésel', 'km': '36900', 'make': 'AUDI', 'model': 'A3', 'province': 'Alicante', 'transmissiontype': 'AUTOMATIC', 'year': '2017', 'seller_type': 'profesional', 'bodytype': 'Berlina', 'cubiccapacity': '1598.0', 'doors': '5', 'hp': '119'}\n",
      "data: [{'color': 'BLUE', 'fueltype': 'Diésel', 'km': '36900', 'make': 'AUDI', 'model': 'A3', 'province': 'Alicante', 'transmissiontype': 'AUTOMATIC', 'year': '2017', 'seller_type': 'profesional', 'bodytype': 'Berlina', 'cubiccapacity': '1598.0', 'doors': '5', 'hp': '119'}]\n",
      "1/1 [==============================] - 0s 19ms/step\n"
     ]
    },
    {
     "name": "stderr",
     "output_type": "stream",
     "text": [
      "127.0.0.1 - - [20/Apr/2023 19:29:30] \"POST /api/predict/coche HTTP/1.1\" 200 -\n"
     ]
    },
    {
     "name": "stdout",
     "output_type": "stream",
     "text": [
      "precio [[19826.854]]\n"
     ]
    },
    {
     "name": "stderr",
     "output_type": "stream",
     "text": [
      "127.0.0.1 - - [20/Apr/2023 19:29:35] \"OPTIONS /api/predict/coche HTTP/1.1\" 200 -\n"
     ]
    },
    {
     "name": "stdout",
     "output_type": "stream",
     "text": [
      "{'color': 'BLUE', 'fueltype': 'Diésel', 'km': '36900', 'make': 'AUDI', 'model': 'A3', 'province': 'Alicante', 'transmissiontype': 'AUTOMATIC', 'year': '2017', 'seller_type': 'profesional', 'bodytype': '4x4 SUV', 'cubiccapacity': '1598.0', 'doors': '5', 'hp': '119'}\n",
      "data: [{'color': 'BLUE', 'fueltype': 'Diésel', 'km': '36900', 'make': 'AUDI', 'model': 'A3', 'province': 'Alicante', 'transmissiontype': 'AUTOMATIC', 'year': '2017', 'seller_type': 'profesional', 'bodytype': '4x4 SUV', 'cubiccapacity': '1598.0', 'doors': '5', 'hp': '119'}]\n",
      "1/1 [==============================] - 0s 20ms/step\n"
     ]
    },
    {
     "name": "stderr",
     "output_type": "stream",
     "text": [
      "127.0.0.1 - - [20/Apr/2023 19:29:35] \"POST /api/predict/coche HTTP/1.1\" 200 -\n"
     ]
    },
    {
     "name": "stdout",
     "output_type": "stream",
     "text": [
      "precio [[19826.854]]\n"
     ]
    },
    {
     "name": "stderr",
     "output_type": "stream",
     "text": [
      "127.0.0.1 - - [20/Apr/2023 19:29:40] \"OPTIONS /api/predict/coche HTTP/1.1\" 200 -\n"
     ]
    },
    {
     "name": "stdout",
     "output_type": "stream",
     "text": [
      "{'color': 'BLUE', 'fueltype': 'Híbrido', 'km': '36900', 'make': 'AUDI', 'model': 'A3', 'province': 'Alicante', 'transmissiontype': 'AUTOMATIC', 'year': '2017', 'seller_type': 'profesional', 'bodytype': '4x4 SUV', 'cubiccapacity': '1598.0', 'doors': '5', 'hp': '119'}\n",
      "data: [{'color': 'BLUE', 'fueltype': 'Híbrido', 'km': '36900', 'make': 'AUDI', 'model': 'A3', 'province': 'Alicante', 'transmissiontype': 'AUTOMATIC', 'year': '2017', 'seller_type': 'profesional', 'bodytype': '4x4 SUV', 'cubiccapacity': '1598.0', 'doors': '5', 'hp': '119'}]\n",
      "1/1 [==============================] - 0s 18ms/step\n"
     ]
    },
    {
     "name": "stderr",
     "output_type": "stream",
     "text": [
      "127.0.0.1 - - [20/Apr/2023 19:29:40] \"POST /api/predict/coche HTTP/1.1\" 200 -\n"
     ]
    },
    {
     "name": "stdout",
     "output_type": "stream",
     "text": [
      "precio [[19826.854]]\n"
     ]
    },
    {
     "name": "stderr",
     "output_type": "stream",
     "text": [
      "127.0.0.1 - - [20/Apr/2023 19:29:43] \"OPTIONS /api/predict/coche HTTP/1.1\" 200 -\n"
     ]
    },
    {
     "name": "stdout",
     "output_type": "stream",
     "text": [
      "{'color': 'YELLOW', 'fueltype': 'Híbrido', 'km': '36900', 'make': 'AUDI', 'model': 'A3', 'province': 'Alicante', 'transmissiontype': 'AUTOMATIC', 'year': '2017', 'seller_type': 'profesional', 'bodytype': '4x4 SUV', 'cubiccapacity': '1598.0', 'doors': '5', 'hp': '119'}\n",
      "data: [{'color': 'YELLOW', 'fueltype': 'Híbrido', 'km': '36900', 'make': 'AUDI', 'model': 'A3', 'province': 'Alicante', 'transmissiontype': 'AUTOMATIC', 'year': '2017', 'seller_type': 'profesional', 'bodytype': '4x4 SUV', 'cubiccapacity': '1598.0', 'doors': '5', 'hp': '119'}]\n",
      "1/1 [==============================] - 0s 18ms/step\n"
     ]
    },
    {
     "name": "stderr",
     "output_type": "stream",
     "text": [
      "127.0.0.1 - - [20/Apr/2023 19:29:44] \"POST /api/predict/coche HTTP/1.1\" 200 -\n"
     ]
    },
    {
     "name": "stdout",
     "output_type": "stream",
     "text": [
      "precio [[19826.854]]\n"
     ]
    },
    {
     "name": "stderr",
     "output_type": "stream",
     "text": [
      "127.0.0.1 - - [20/Apr/2023 19:29:46] \"OPTIONS /api/predict/coche HTTP/1.1\" 200 -\n"
     ]
    },
    {
     "name": "stdout",
     "output_type": "stream",
     "text": [
      "{'color': 'YELLOW', 'fueltype': 'Híbrido', 'km': '36900', 'make': 'RENAULT', 'model': 'A3', 'province': 'Alicante', 'transmissiontype': 'AUTOMATIC', 'year': '2017', 'seller_type': 'profesional', 'bodytype': '4x4 SUV', 'cubiccapacity': '1598.0', 'doors': '5', 'hp': '119'}\n",
      "data: [{'color': 'YELLOW', 'fueltype': 'Híbrido', 'km': '36900', 'make': 'RENAULT', 'model': 'A3', 'province': 'Alicante', 'transmissiontype': 'AUTOMATIC', 'year': '2017', 'seller_type': 'profesional', 'bodytype': '4x4 SUV', 'cubiccapacity': '1598.0', 'doors': '5', 'hp': '119'}]\n",
      "1/1 [==============================] - 0s 20ms/step\n"
     ]
    },
    {
     "name": "stderr",
     "output_type": "stream",
     "text": [
      "127.0.0.1 - - [20/Apr/2023 19:29:46] \"POST /api/predict/coche HTTP/1.1\" 200 -\n"
     ]
    },
    {
     "name": "stdout",
     "output_type": "stream",
     "text": [
      "precio [[19826.854]]\n"
     ]
    },
    {
     "name": "stderr",
     "output_type": "stream",
     "text": [
      "127.0.0.1 - - [20/Apr/2023 19:29:47] \"OPTIONS /api/predict/coche HTTP/1.1\" 200 -\n"
     ]
    },
    {
     "name": "stdout",
     "output_type": "stream",
     "text": [
      "{'color': 'YELLOW', 'fueltype': 'Híbrido', 'km': '36900', 'make': 'RENAULT', 'model': 'A3', 'province': 'Alicante', 'transmissiontype': 'AUTOMATIC', 'year': '2017', 'seller_type': 'profesional', 'bodytype': '4x4 SUV', 'cubiccapacity': '1598.0', 'doors': '5', 'hp': '119'}\n",
      "data: [{'color': 'YELLOW', 'fueltype': 'Híbrido', 'km': '36900', 'make': 'RENAULT', 'model': 'A3', 'province': 'Alicante', 'transmissiontype': 'AUTOMATIC', 'year': '2017', 'seller_type': 'profesional', 'bodytype': '4x4 SUV', 'cubiccapacity': '1598.0', 'doors': '5', 'hp': '119'}]\n",
      "1/1 [==============================] - 0s 19ms/step\n"
     ]
    },
    {
     "name": "stderr",
     "output_type": "stream",
     "text": [
      "127.0.0.1 - - [20/Apr/2023 19:29:47] \"POST /api/predict/coche HTTP/1.1\" 200 -\n",
      "127.0.0.1 - - [20/Apr/2023 19:29:47] \"OPTIONS /api/predict/coche HTTP/1.1\" 200 -\n"
     ]
    },
    {
     "name": "stdout",
     "output_type": "stream",
     "text": [
      "precio [[19826.854]]\n"
     ]
    },
    {
     "name": "stderr",
     "output_type": "stream",
     "text": [
      "127.0.0.1 - - [20/Apr/2023 19:29:48] \"OPTIONS /api/predict/coche HTTP/1.1\" 200 -\n"
     ]
    },
    {
     "name": "stdout",
     "output_type": "stream",
     "text": [
      "{'color': 'YELLOW', 'fueltype': 'Híbrido', 'km': '36900', 'make': 'RENAULT', 'model': 'A3', 'province': 'Alicante', 'transmissiontype': 'AUTOMATIC', 'year': '2017', 'seller_type': 'profesional', 'bodytype': '4x4 SUV', 'cubiccapacity': '1598.0', 'doors': '5', 'hp': '119'}\n",
      "data: [{'color': 'YELLOW', 'fueltype': 'Híbrido', 'km': '36900', 'make': 'RENAULT', 'model': 'A3', 'province': 'Alicante', 'transmissiontype': 'AUTOMATIC', 'year': '2017', 'seller_type': 'profesional', 'bodytype': '4x4 SUV', 'cubiccapacity': '1598.0', 'doors': '5', 'hp': '119'}]\n",
      "1/1 [==============================] - 0s 21ms/step\n"
     ]
    },
    {
     "name": "stderr",
     "output_type": "stream",
     "text": [
      "127.0.0.1 - - [20/Apr/2023 19:29:48] \"POST /api/predict/coche HTTP/1.1\" 200 -\n"
     ]
    },
    {
     "name": "stdout",
     "output_type": "stream",
     "text": [
      "precio [[19826.854]]\n",
      "{'color': 'YELLOW', 'fueltype': 'Híbrido', 'km': '36900', 'make': 'RENAULT', 'model': 'A3', 'province': 'Alicante', 'transmissiontype': 'AUTOMATIC', 'year': '2017', 'seller_type': 'profesional', 'bodytype': '4x4 SUV', 'cubiccapacity': '1598.0', 'doors': '5', 'hp': '119'}\n",
      "data: [{'color': 'YELLOW', 'fueltype': 'Híbrido', 'km': '36900', 'make': 'RENAULT', 'model': 'A3', 'province': 'Alicante', 'transmissiontype': 'AUTOMATIC', 'year': '2017', 'seller_type': 'profesional', 'bodytype': '4x4 SUV', 'cubiccapacity': '1598.0', 'doors': '5', 'hp': '119'}]\n",
      "1/1 [==============================] - 0s 31ms/step\n"
     ]
    },
    {
     "name": "stderr",
     "output_type": "stream",
     "text": [
      "127.0.0.1 - - [20/Apr/2023 19:29:48] \"POST /api/predict/coche HTTP/1.1\" 200 -\n"
     ]
    },
    {
     "name": "stdout",
     "output_type": "stream",
     "text": [
      "precio [[19826.854]]\n"
     ]
    },
    {
     "name": "stderr",
     "output_type": "stream",
     "text": [
      "127.0.0.1 - - [20/Apr/2023 19:29:53] \"OPTIONS /api/predict/coche HTTP/1.1\" 200 -\n"
     ]
    },
    {
     "name": "stdout",
     "output_type": "stream",
     "text": [
      "{'color': 'YELLOW', 'fueltype': 'Híbrido', 'km': '36900', 'make': 'RENAULT', 'model': 'A3', 'province': 'Alicante', 'transmissiontype': 'AUTOMATIC', 'year': '2017', 'seller_type': 'particular', 'bodytype': '4x4 SUV', 'cubiccapacity': '1598.0', 'doors': '5', 'hp': '119'}\n",
      "data: [{'color': 'YELLOW', 'fueltype': 'Híbrido', 'km': '36900', 'make': 'RENAULT', 'model': 'A3', 'province': 'Alicante', 'transmissiontype': 'AUTOMATIC', 'year': '2017', 'seller_type': 'particular', 'bodytype': '4x4 SUV', 'cubiccapacity': '1598.0', 'doors': '5', 'hp': '119'}]\n",
      "1/1 [==============================] - 0s 33ms/step\n"
     ]
    },
    {
     "name": "stderr",
     "output_type": "stream",
     "text": [
      "127.0.0.1 - - [20/Apr/2023 19:29:53] \"POST /api/predict/coche HTTP/1.1\" 200 -\n"
     ]
    },
    {
     "name": "stdout",
     "output_type": "stream",
     "text": [
      "precio [[19826.854]]\n"
     ]
    },
    {
     "name": "stderr",
     "output_type": "stream",
     "text": [
      "127.0.0.1 - - [20/Apr/2023 19:30:34] \"OPTIONS /api/predict/coche HTTP/1.1\" 200 -\n"
     ]
    },
    {
     "name": "stdout",
     "output_type": "stream",
     "text": [
      "{'color': 'BLUE', 'fueltype': 'Diésel', 'km': '38000', 'make': 'AUDI', 'model': 'A7', 'province': 'Almería', 'transmissiontype': 'AUTOMATIC', 'year': '2017', 'seller_type': 'profesional', 'bodytype': 'Berlina', 'cubiccapacity': '3000', 'doors': '5', 'hp': '250'}\n",
      "data: [{'color': 'BLUE', 'fueltype': 'Diésel', 'km': '38000', 'make': 'AUDI', 'model': 'A7', 'province': 'Almería', 'transmissiontype': 'AUTOMATIC', 'year': '2017', 'seller_type': 'profesional', 'bodytype': 'Berlina', 'cubiccapacity': '3000', 'doors': '5', 'hp': '250'}]\n",
      "1/1 [==============================] - 0s 31ms/step\n"
     ]
    },
    {
     "name": "stderr",
     "output_type": "stream",
     "text": [
      "127.0.0.1 - - [20/Apr/2023 19:30:34] \"POST /api/predict/coche HTTP/1.1\" 200 -\n"
     ]
    },
    {
     "name": "stdout",
     "output_type": "stream",
     "text": [
      "precio [[19826.854]]\n"
     ]
    }
   ],
   "source": [
    "from flask import Flask, request, Response\n",
    "\n",
    "#pip install -U flask-cors\n",
    "from flask_cors import CORS\n",
    "\n",
    "application = Flask(__name__)\n",
    "CORS(application)\n",
    "\n",
    "with open('dict_vectorizer_coches_net.pck', 'rb') as f:\n",
    "  dv = pickle.load(f)\n",
    "model = tf.keras.models.load_model('modelo_keras_coches_net.hdf5')\n",
    "# Crear un nuevo optimizador\n",
    "optimizer = Adam(learning_rate=0.01)\n",
    "\n",
    "# Compilar el modelo con el nuevo optimizador\n",
    "model.compile(loss='mean_squared_error', optimizer=optimizer)\n",
    "\n",
    "@application.route('/flask', methods=['GET'])\n",
    "def flask():\n",
    "    return '<p>https://flask.palletsprojects.com/en/2.2.x/</p>'\n",
    "\n",
    "@application.get('/api/get')\n",
    "def get_method():\n",
    "    word = request.args.get('word', '<no word>')\n",
    "    return {\n",
    "        'hello': 'hello, ' + word\n",
    "    }\n",
    "    \n",
    "@application.post('/api/predict/coche')\n",
    "def predict_car():\n",
    "    coche = request.get_json()\n",
    "    print(coche)\n",
    "    if coche is not None:\n",
    "        print('data:',[dict(coche)])\n",
    "        X_train = dv.transform([dict(coche)])\n",
    "        precio = model.predict(X_train)\n",
    "        print('precio', precio)\n",
    "        return {'precio': round(float(precio[0]), 2)}\n",
    "    else:\n",
    "        return 'No valido!'\n",
    "\n",
    "@application.route('/')\n",
    "def main():\n",
    "    return '<p>Hello, World!</p>'\n",
    "\n",
    "application.run()\n",
    "\n"
   ]
  }
 ],
 "metadata": {
  "kernelspec": {
   "display_name": "Python 3",
   "language": "python",
   "name": "python3"
  },
  "language_info": {
   "codemirror_mode": {
    "name": "ipython",
    "version": 3
   },
   "file_extension": ".py",
   "mimetype": "text/x-python",
   "name": "python",
   "nbconvert_exporter": "python",
   "pygments_lexer": "ipython3",
   "version": "3.10.7"
  },
  "orig_nbformat": 4
 },
 "nbformat": 4,
 "nbformat_minor": 2
}
