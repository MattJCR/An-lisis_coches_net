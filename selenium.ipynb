{
 "cells": [
  {
   "cell_type": "code",
   "execution_count": null,
   "metadata": {},
   "outputs": [],
   "source": [
    "!pip install undetected-chromedriver\n",
    "\n",
    "import ssl\n",
    "ssl._create_default_https_context = ssl._create_unverified_context\n",
    "\n",
    "from selenium.webdriver import ActionChains\n",
    "from selenium.webdriver.common.by import By\n",
    "from datetime import datetime\n",
    "import random\n",
    "import re\n",
    "import time\n",
    "import undetected_chromedriver as uc\n",
    "from selenium import webdriver\n"
   ]
  },
  {
   "cell_type": "code",
   "execution_count": null,
   "metadata": {},
   "outputs": [],
   "source": [
    "def get_driver():\n",
    "  options = webdriver.ChromeOptions()\n",
    "  options.add_argument('--user-agent=Mozilla/5.0 (Windows NT 10.0; Win64; x64) AppleWebKit/537.36 (KHTML, like Gecko) Chrome/94.0.4606.61 Safari/537.36')\n",
    "  options.add_argument(\"--incognito\")\n",
    "  driver = uc.Chrome(options = options)\n",
    "  driver.set_page_load_timeout(60)\n",
    "  driver.set_window_size(1366, 768)\n",
    "  driver.set_window_position(0, 0)\n",
    "  driver.delete_all_cookies()\n",
    "  driver.execute_script(\"localStorage.clear();\")\n",
    "  driver.execute_script(\"sessionStorage.clear();\")\n",
    "  driver.execute_script(\"history.go(0);\")\n",
    "  driver.execute_cdp_cmd('Page.addScriptToEvaluateOnNewDocument', {\n",
    "    'source': 'Object.defineProperty(navigator, \"webdriver\", {get: () => undefined})'\n",
    "  })\n",
    "  return driver\n",
    "\n",
    "\n",
    "def get_links(driver, url):\n",
    "    actions = ActionChains(driver)\n",
    "    driver.get(url)\n",
    "    time.sleep(random.uniform(0.5, 1.5))\n",
    "    try:\n",
    "        button = driver.find_element(by=By.XPATH, value='/html/body/div/div/div[2]/div/div[2]/div/div/div/footer/div/button[2]')\n",
    "        actions.move_to_element(button).perform()\n",
    "        button.click()\n",
    "        time.sleep(random.uniform(0.8, 1.2))\n",
    "    except:\n",
    "        pass\n",
    "    increment = 100\n",
    "    position = 0\n",
    "    while True:\n",
    "        driver.execute_script(\"window.scrollTo(0, \" + str(increment) + \");\")\n",
    "        \n",
    "        elements = driver.find_elements(by=By.XPATH, value='//*[@id=\"root\"]/div/div/div/main/div/section/div/div/div/div/div/a')\n",
    "        time.sleep(random.uniform(0.2, 0.8))\n",
    "        links = [element.get_attribute('href') for element in elements]\n",
    "        if position == 0:\n",
    "            try:\n",
    "                actions.move_to_element(elements[0]).perform()\n",
    "            except:\n",
    "                pass\n",
    "            position += 1\n",
    "        else:\n",
    "            try:\n",
    "                actions.move_by_offset(random.uniform(-20, 20), random.uniform(-100, 200))\n",
    "            except:\n",
    "                pass\n",
    "        increment += 300\n",
    "        if len(elements) >= 30 or increment >= 10000:\n",
    "            break\n",
    "    links = [element.get_attribute('href') for element in elements]\n",
    "    display(len(links))\n",
    "    display(links)\n",
    "    return links"
   ]
  },
  {
   "cell_type": "code",
   "execution_count": null,
   "metadata": {},
   "outputs": [],
   "source": [
    "links = []\n",
    "last_size = 0\n",
    "pg = 1\n",
    "driver = get_driver()\n",
    "while True:\n",
    "    url = r'https://www.coches.net/segunda-mano/?MakeId=27&MinPrice=4000&MinYear=2012&MaxYear=2022&MinKms=10000&MaxKms=180000&pg=' + str(pg)\n",
    "    print('url:',url)\n",
    "    links.extend(get_links(driver, url))\n",
    "    print('links len:',len(links))\n",
    "    if last_size == len(links) or len(links) >= 1000:\n",
    "        break\n",
    "    last_size = len(links)\n",
    "    pg += 1\n"
   ]
  },
  {
   "cell_type": "code",
   "execution_count": null,
   "metadata": {},
   "outputs": [],
   "source": [
    "links"
   ]
  },
  {
   "cell_type": "code",
   "execution_count": null,
   "metadata": {},
   "outputs": [],
   "source": [
    "import pandas as pd\n",
    "links\n",
    "df = pd.DataFrame(links)\n",
    "df.to_csv(\"coches_link.csv\")"
   ]
  },
  {
   "cell_type": "code",
   "execution_count": null,
   "metadata": {},
   "outputs": [],
   "source": [
    "import pandas as pd\n",
    "urls_coches = pd.read_csv(\"coches_link.csv\")\n",
    "\n",
    "# Crear una lista vacía para almacenar los enlaces leídos\n",
    "urls_leidos = []\n"
   ]
  },
  {
   "cell_type": "code",
   "execution_count": null,
   "metadata": {},
   "outputs": [],
   "source": [
    "for c in urls_coches[\"url\"]:\n",
    "  print(c.replace(\"#\",\"\"))\n",
    "  break"
   ]
  },
  {
   "cell_type": "code",
   "execution_count": null,
   "metadata": {},
   "outputs": [],
   "source": [
    "urls_coches"
   ]
  },
  {
   "cell_type": "code",
   "execution_count": null,
   "metadata": {},
   "outputs": [],
   "source": [
    "coches_df = coches_df.drop(['Unnamed: 0.4', 'Unnamed: 0.3', 'Unnamed: 0.2', 'Unnamed: 0.1',\n",
    "       'Unnamed: 0'], axis=1)\n",
    "coches_df"
   ]
  },
  {
   "cell_type": "code",
   "execution_count": null,
   "metadata": {},
   "outputs": [],
   "source": [
    "coches_df[\"url\"]"
   ]
  },
  {
   "cell_type": "code",
   "execution_count": 2,
   "metadata": {},
   "outputs": [],
   "source": [
    "import numpy as np\n",
    "import pandas as pd\n",
    "coches_df = pd.read_csv(\"coches_data.csv\")\n",
    "for data in coches_df.columns:\n",
    "  try:\n",
    "    if data.startswith('Unnamed'):\n",
    "      coches_df = coches_df.drop([data], axis=1)\n",
    "  except:\n",
    "    pass\n",
    "coches_df.to_csv(\"bmw_mazda.csv\")"
   ]
  },
  {
   "cell_type": "code",
   "execution_count": null,
   "metadata": {},
   "outputs": [],
   "source": [
    "from datetime import datetime\n",
    "import numpy as np\n",
    "coches_df = pd.read_csv(\"coches_data.csv\")\n",
    "coches_df = coches_df.drop_duplicates(subset='url')\n",
    "for data in coches_df.columns:\n",
    "  try:\n",
    "    if data.startswith('Unnamed'):\n",
    "      coches_df = coches_df.drop([data], axis=1)\n",
    "  except:\n",
    "    pass\n",
    "coches_df.to_csv(\"coches_data.csv\")\n",
    "driver = get_driver()\n",
    "actions = ActionChains(driver)\n",
    "coches_df[\"url\"] = coches_df[\"url\"].astype(\"str\")\n",
    "\n",
    "# Realizar replace(\"#\",\"\") en los valores de urls_coches[\"url\"]\n",
    "urls_coches[\"url\"] = urls_coches[\"url\"].apply(lambda x: x.replace(\"#\", \"\"))\n",
    "\n",
    "# Identificar las filas de urls_coches[\"url\"] que están presentes en coches_df[\"url\"]\n",
    "rows_to_drop = urls_coches[urls_coches[\"url\"].isin(coches_df[\"url\"])]\n",
    "\n",
    "# Contar cuántas filas se van a eliminar\n",
    "num_rows_to_drop = len(rows_to_drop)\n",
    "\n",
    "# Eliminar las filas de urls_coches[\"url\"] que coinciden con coches_df[\"url\"]\n",
    "urls_coches.drop(rows_to_drop.index, inplace=True)\n",
    "\n",
    "# Mostrar cuántas filas se eliminaron\n",
    "print(f\"Se eliminaron {num_rows_to_drop} filas.\")\n",
    "for c in urls_coches[\"url\"]:\n",
    "  # Si el enlace ya ha sido leído, saltar al siguiente enlace\n",
    "  if c.replace(\"#\",\"\") in coches_df[\"url\"]:\n",
    "    print(\"Continue\")\n",
    "    continue\n",
    "\n",
    "  driver.get(c.replace(\"#\",\"\"))\n",
    "  try:\n",
    "    actions.move_by_offset(random.uniform(-20, 20), random.uniform(-100, 200))\n",
    "  except:\n",
    "    pass\n",
    "  time.sleep(random.uniform(0.5, 1.5))\n",
    "  try:\n",
    "    button = driver.find_element(by=By.XPATH, value='/html/body/div[1]/div/div[2]/div/div[3]/div/div/div/footer/div/button[2]')\n",
    "    try:\n",
    "      actions.move_to_element(button).perform()\n",
    "    except:\n",
    "      pass\n",
    "    button.click()\n",
    "    time.sleep(random.uniform(0.8, 1.2))\n",
    "  except:\n",
    "    pass\n",
    "\n",
    "  json_text = driver.find_element(by=By.XPATH, value='/html/body/script[3]')\n",
    "  json_text_content = json_text.get_attribute(\"innerHTML\")\n",
    "  print('content:', json_text_content)\n",
    "  import re\n",
    "  import json\n",
    "  import pandas as pd\n",
    "\n",
    "  # extraer la cadena JSON del texto plano\n",
    "  match = re.search(r'JSON.parse\\(\"(.*?)\"\\);', json_text_content)\n",
    "\n",
    "  json_string = match.group(1)\n",
    "  json_string = re.sub(r'\\\\([\\\\\"])', r'\\1', json_string) # eliminar las barras invertidas escapadas\n",
    "  json_string = json_string.replace('\\r', '') # eliminar los caracteres \"\\r\"\n",
    "\n",
    "  print(json_string)\n",
    "  # analizar la cadena JSON\n",
    "  json_data = json.loads(json_string)\n",
    "  \n",
    "  # crear un DataFrame a partir de los datos analizados\n",
    "  df = pd.json_normalize(json_data)\n",
    "  columnas = ['ad.fuelType', 'ad.fuelTypeId', 'ad.color', 'ad.id', 'ad.km', 'ad.make', 'ad.makeId', 'ad.model', 'ad.modelId', 'ad.province', 'ad.provinceId', 'ad.price', 'ad.title', 'ad.transmissionType', 'ad.transmissionTypeId', 'ad.year', 'pageTrackingData.data.seller_type', 'pageTrackingData.data.seller_type_id', 'pageTrackingData.data.body_types', 'pageTrackingData.data.body_types_id', 'vehicleInfo.specifications.cubicCapacity', 'vehicleInfo.specifications.doors', 'vehicleInfo.specifications.hp']\n",
    "  df = df.reindex(columns=columnas, fill_value=np.nan)\n",
    "  df = df.rename(columns=lambda x: x.split('.')[-1])\n",
    "  df[\"url\"] = c.replace(\"#\",\"\")\n",
    "  df[\"date\"] = datetime.now().strftime('%Y-%m-%d %H:%M:%S')\n",
    "  coches_df = pd.concat([coches_df, df])\n",
    "  for data in coches_df.columns:\n",
    "    try:\n",
    "      if data.startswith('Unnamed'):\n",
    "        coches_df = coches_df.drop([data], axis=1)\n",
    "    except:\n",
    "      pass\n",
    "  coches_df = coches_df.drop_duplicates(subset='url')\n",
    "  coches_df.to_csv(\"coches_data.csv\")\n"
   ]
  },
  {
   "cell_type": "code",
   "execution_count": null,
   "metadata": {},
   "outputs": [],
   "source": [
    "coches_df"
   ]
  },
  {
   "cell_type": "code",
   "execution_count": null,
   "metadata": {},
   "outputs": [],
   "source": [
    "ad.fuelType\n",
    "ad.fuelType\n",
    "ad.fuelTypeId\n",
    "ad.color\n",
    "ad.id\n",
    "ad.km\n",
    "ad.make\n",
    "ad.makeId\n",
    "ad.model\n",
    "ad.modelId\n",
    "ad.province\n",
    "ad.provinceId\n",
    "ad.price\n",
    "ad.title\n",
    "ad.transmissionType\n",
    "ad.transmissionTypeId\n",
    "ad.year\n",
    "pageTrackingData.data.seller_type\n",
    "pageTrackingData.data.seller_type_id\n",
    "pageTrackingData.data.body_types\n",
    "pageTrackingData.data.body_types_id\n",
    "vehicleInfo.specifications.cubicCapacity\n",
    "vehicleInfo.specifications.doors\n",
    "vehicleInfo.specifications.hp"
   ]
  },
  {
   "cell_type": "code",
   "execution_count": null,
   "metadata": {},
   "outputs": [],
   "source": [
    "for x in df.columns:\n",
    "    print(x)"
   ]
  }
 ],
 "metadata": {
  "kernelspec": {
   "display_name": "Python 3",
   "language": "python",
   "name": "python3"
  },
  "language_info": {
   "codemirror_mode": {
    "name": "ipython",
    "version": 3
   },
   "file_extension": ".py",
   "mimetype": "text/x-python",
   "name": "python",
   "nbconvert_exporter": "python",
   "pygments_lexer": "ipython3",
   "version": "3.10.7"
  },
  "orig_nbformat": 4,
  "vscode": {
   "interpreter": {
    "hash": "54a3d53733bdb4b0f0358cf3d547bbcb79614b900270fd5b08862d484f5a5082"
   }
  }
 },
 "nbformat": 4,
 "nbformat_minor": 2
}
